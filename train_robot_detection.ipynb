{
  "cells": [
    {
      "cell_type": "code",
      "execution_count": 1,
      "metadata": {
        "colab": {
          "base_uri": "https://localhost:8080/"
        },
        "id": "AgJCx6MO-_iW",
        "outputId": "84ab798e-33d3-4e38-d128-955254e0e8d9"
      },
      "outputs": [
        {
          "name": "stdout",
          "output_type": "stream",
          "text": [
            "/content\n"
          ]
        }
      ],
      "source": [
        "\n",
        "import os\n",
        "HOME = os.getcwd()\n",
        "print(HOME)\n",
        "     "
      ]
    },
    {
      "cell_type": "code",
      "execution_count": null,
      "metadata": {
        "id": "IqU-pRmXByhA"
      },
      "outputs": [],
      "source": [
        "!unzip ./robot_data.zip \n"
      ]
    },
    {
      "cell_type": "code",
      "execution_count": 11,
      "metadata": {
        "colab": {
          "base_uri": "https://localhost:8080/"
        },
        "id": "C1LYXljF_KPO",
        "outputId": "dd2592c0-0bb1-415d-8740-220bc94fdfe3"
      },
      "outputs": [
        {
          "name": "stderr",
          "output_type": "stream",
          "text": [
            "YOLOv5 🚀 2023-1-11 Python-3.8.16 torch-1.13.0+cu116 CPU\n"
          ]
        },
        {
          "name": "stdout",
          "output_type": "stream",
          "text": [
            "Setup complete ✅ (2 CPUs, 12.7 GB RAM, 23.4/107.7 GB disk)\n"
          ]
        }
      ],
      "source": [
        "\n",
        "%cd {HOME}\n",
        "\n",
        "%cd yolov5\n",
        "%pip install -r requirements.txt\n",
        "\n",
        "import torch\n",
        "import utils\n",
        "display = utils.notebook_init()"
      ]
    },
    {
      "cell_type": "markdown",
      "metadata": {
        "id": "c9X6jOgqDeVK"
      },
      "source": [
        "* Change the model using the --cfg argument.\n",
        "If the model takes too much time to train, then use a smaller model ('./models/yolov5m' or './models/yolov5s')"
      ]
    },
    {
      "cell_type": "code",
      "execution_count": null,
      "metadata": {
        "id": "Quo4omFZ_5Em"
      },
      "outputs": [],
      "source": [
        "!python train.py --data './data/robot.yaml' --cfg './models/yolov5s.yaml' --epoch 10 --imgsz 640 --batch-size 2"
      ]
    },
    {
      "cell_type": "code",
      "execution_count": null,
      "metadata": {
        "id": "JyCcu1GXBluP"
      },
      "outputs": [],
      "source": []
    }
  ],
  "metadata": {
    "colab": {
      "provenance": []
    },
    "kernelspec": {
      "display_name": "Python 3",
      "name": "python3"
    },
    "language_info": {
      "name": "python"
    }
  },
  "nbformat": 4,
  "nbformat_minor": 0
}
