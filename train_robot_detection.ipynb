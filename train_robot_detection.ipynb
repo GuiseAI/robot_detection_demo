{
  "nbformat": 4,
  "nbformat_minor": 0,
  "metadata": {
    "colab": {
      "provenance": []
    },
    "kernelspec": {
      "name": "python3",
      "display_name": "Python 3"
    },
    "language_info": {
      "name": "python"
    }
  },
  "cells": [
    {
      "cell_type": "code",
      "execution_count": 1,
      "metadata": {
        "colab": {
          "base_uri": "https://localhost:8080/"
        },
        "id": "AgJCx6MO-_iW",
        "outputId": "84ab798e-33d3-4e38-d128-955254e0e8d9"
      },
      "outputs": [
        {
          "output_type": "stream",
          "name": "stdout",
          "text": [
            "/content\n"
          ]
        }
      ],
      "source": [
        "\n",
        "import os\n",
        "HOME = os.getcwd()\n",
        "print(HOME)\n",
        "     "
      ]
    },
    {
      "cell_type": "code",
      "source": [
        "!unzip ./robot_data.zip \n"
      ],
      "metadata": {
        "id": "IqU-pRmXByhA"
      },
      "execution_count": null,
      "outputs": []
    },
    {
      "cell_type": "code",
      "source": [
        "\n",
        "%cd {HOME}\n",
        "\n",
        "%cd yolov5\n",
        "%pip install -r requirements.txt\n",
        "\n",
        "import torch\n",
        "import utils\n",
        "display = utils.notebook_init()"
      ],
      "metadata": {
        "colab": {
          "base_uri": "https://localhost:8080/"
        },
        "id": "C1LYXljF_KPO",
        "outputId": "dd2592c0-0bb1-415d-8740-220bc94fdfe3"
      },
      "execution_count": 11,
      "outputs": [
        {
          "output_type": "stream",
          "name": "stderr",
          "text": [
            "YOLOv5 🚀 2023-1-11 Python-3.8.16 torch-1.13.0+cu116 CPU\n"
          ]
        },
        {
          "output_type": "stream",
          "name": "stdout",
          "text": [
            "Setup complete ✅ (2 CPUs, 12.7 GB RAM, 23.4/107.7 GB disk)\n"
          ]
        }
      ]
    },
    {
      "cell_type": "markdown",
      "source": [
        "* Change the model using the --cfg argument.\n",
        "If the model takes too much time to train, then use a smaller model ('./models/yolov5m' or './models/yolov5s')"
      ],
      "metadata": {
        "id": "c9X6jOgqDeVK"
      }
    },
    {
      "cell_type": "code",
      "source": [
        "!python train.py --data './data/robot.yaml' --cfg './models/yolov5l.yaml' --epoch 10 --imgsz 640 --batch-size 32"
      ],
      "metadata": {
        "id": "Quo4omFZ_5Em"
      },
      "execution_count": null,
      "outputs": []
    },
    {
      "cell_type": "code",
      "source": [],
      "metadata": {
        "id": "JyCcu1GXBluP"
      },
      "execution_count": null,
      "outputs": []
    }
  ]
}